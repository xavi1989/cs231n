{
 "cells": [
  {
   "cell_type": "markdown",
   "metadata": {},
   "source": [
    "# k-Nearest Neighbor (kNN) exercise\n",
    "\n",
    "*Complete and hand in this completed worksheet (including its outputs and any supporting code outside of the worksheet) with your assignment submission. For more details see the [assignments page](http://vision.stanford.edu/teaching/cs231n/assignments.html) on the course website.*\n",
    "\n",
    "The kNN classifier consists of two stages:\n",
    "\n",
    "- During training, the classifier takes the training data and simply remembers it\n",
    "- During testing, kNN classifies every test image by comparing to all training images and transfering the labels of the k most similar training examples\n",
    "- The value of k is cross-validated\n",
    "\n",
    "In this exercise you will implement these steps and understand the basic Image Classification pipeline, cross-validation, and gain proficiency in writing efficient, vectorized code."
   ]
  },
  {
   "cell_type": "code",
   "execution_count": 2,
   "metadata": {
    "collapsed": false
   },
   "outputs": [
    {
     "name": "stdout",
     "output_type": "stream",
     "text": [
      "The autoreload extension is already loaded. To reload it, use:\n",
      "  %reload_ext autoreload\n"
     ]
    }
   ],
   "source": [
    "# Run some setup code for this notebook.\n",
    "\n",
    "import random\n",
    "import numpy as np\n",
    "from cs231n.data_utils import load_CIFAR10\n",
    "import matplotlib.pyplot as plt\n",
    "\n",
    "# This is a bit of magic to make matplotlib figures appear inline in the notebook\n",
    "# rather than in a new window.\n",
    "%matplotlib inline\n",
    "plt.rcParams['figure.figsize'] = (10.0, 8.0) # set default size of plots\n",
    "plt.rcParams['image.interpolation'] = 'nearest'\n",
    "plt.rcParams['image.cmap'] = 'gray'\n",
    "\n",
    "# Some more magic so that the notebook will reload external python modules;\n",
    "# see http://stackoverflow.com/questions/1907993/autoreload-of-modules-in-ipython\n",
    "%load_ext autoreload\n",
    "%autoreload 2"
   ]
  },
  {
   "cell_type": "code",
   "execution_count": 3,
   "metadata": {
    "collapsed": false
   },
   "outputs": [
    {
     "name": "stdout",
     "output_type": "stream",
     "text": [
      "Training data shape:  (50000, 32, 32, 3)\n",
      "Training labels shape:  (50000,)\n",
      "Test data shape:  (10000, 32, 32, 3)\n",
      "Test labels shape:  (10000,)\n"
     ]
    }
   ],
   "source": [
    "# Load the raw CIFAR-10 data.\n",
    "cifar10_dir = 'cs231n/datasets/cifar-10-batches-py'\n",
    "X_train, y_train, X_test, y_test = load_CIFAR10(cifar10_dir)\n",
    "\n",
    "# As a sanity check, we print out the size of the training and test data.\n",
    "print 'Training data shape: ', X_train.shape\n",
    "print 'Training labels shape: ', y_train.shape\n",
    "print 'Test data shape: ', X_test.shape\n",
    "print 'Test labels shape: ', y_test.shape"
   ]
  },
  {
   "cell_type": "code",
   "execution_count": 18,
   "metadata": {
    "collapsed": false
   },
   "outputs": [
    {
     "name": "stdout",
     "output_type": "stream",
     "text": [
      "[44592 27460  1674 19347 34235 40448 10782]\n",
      "[27382  4352  7605 39373 17126 25377 14668]\n",
      "[ 5825 11156 30287 16472 47009 30312 18727]\n",
      "[ 2011 23218 30332 16273 31013 11498 36633]\n",
      "[42643 25099 11506 11402 37960 37463 42938]\n",
      "[ 4135 42152 13392 47221 48693 29006   305]\n",
      "[29547 46193 37940 43250 15962  1989 31906]\n",
      "[33469 13284 36278 27327 38597 32640 32638]\n",
      "[  501 38733  7231 13131 45697 18118    62]\n",
      "[17109 28544 38018  7421 29938 25409  1235]\n"
     ]
    },
    {
     "data": {
      "image/png": "[encoded data removed]",
      "text/plain": [
       "<matplotlib.figure.Figure at 0x7275390>"
      ]
     },
     "metadata": {},
     "output_type": "display_data"
    }
   ],
   "source": [
    "# Visualize some examples from the dataset.\n",
    "# We show a few examples of training images from each class.\n",
    "classes = ['plane', 'car', 'bird', 'cat', 'deer', 'dog', 'frog', 'horse', 'ship', 'truck']\n",
    "num_classes = len(classes)\n",
    "samples_per_class = 7\n",
    "for y, cls in enumerate(classes):\n",
    "    idxs = np.flatnonzero(y_train == y)\n",
    "    idxs = np.random.choice(idxs, samples_per_class, replace=False)\n",
    "    print idxs\n",
    "    for i, idx in enumerate(idxs):\n",
    "        plt_idx = i * num_classes + y + 1\n",
    "        plt.subplot(samples_per_class, num_classes, plt_idx)\n",
    "        #plt.imshow(X_train[idx].astype('uint8'))\n",
    "        plt.axis('off')\n",
    "        if i == 0:\n",
    "            plt.title(cls)\n",
    "plt.show()"
   ]
  },
  {
   "cell_type": "code",
   "execution_count": 23,
   "metadata": {
    "collapsed": false
   },
   "outputs": [
    {
     "name": "stdout",
     "output_type": "stream",
     "text": [
      "(5000,)\n",
      "(5000, 32, 32, 3)\n"
     ]
    }
   ],
   "source": [
    "# Subsample the data for more efficient code execution in this exercise\n",
    "num_training = 5000\n",
    "mask = range(num_training)\n",
    "X_train = X_train[mask]\n",
    "y_train = y_train[mask]\n",
    "print y_train.shape\n",
    "print X_train.shape\n",
    "\n",
    "num_test = 500\n",
    "mask = range(num_test)\n",
    "X_test = X_test[mask]\n",
    "y_test = y_test[mask]"
   ]
  },
  {
   "cell_type": "code",
   "execution_count": 188,
   "metadata": {
    "collapsed": false,
    "scrolled": true
   },
   "outputs": [
    {
     "name": "stdout",
     "output_type": "stream",
     "text": [
      "5000\n",
      "(5000, 3072) (500, 3072)\n",
      "[[ 0.  0.  0.]\n",
      " [ 0.  0.  0.]]\n",
      "[[1, 2, 3]]\n",
      "[[1, 2, 3], [4, 5, 6], [8, 9, 10]]\n",
      "[  0  27 147]\n",
      "[1, 2, 3]\n",
      "[[0 0 0]]\n",
      "174\n",
      "[1, 3, 3, 4, 9]\n",
      "[0 1 0 2 1 0 0 0 0 1]\n",
      "[[1, 2, 3], [4, 5, 6]]\n",
      "[[1, 2, 3], [4, 5, 6], [8, 9, 10]]\n",
      "[14 77]\n",
      "[ 14  77 245]\n",
      "[[ -28  -64 -112]\n",
      " [ -64 -154 -274]]\n",
      "[[ -14  -50  -98]\n",
      " [  13  -77 -197]]\n",
      "[[  0  27 147]\n",
      " [ 27   0  48]]\n",
      "[4 5 6]\n",
      "[[ 8  9 10]\n",
      " [11 12 13]]\n",
      "[[4 5 6]\n",
      " [1 2 3]]\n"
     ]
    }
   ],
   "source": [
    "# Reshape the image data into rows\n",
    "print X_train.shape[0]\n",
    "X_train = np.reshape(X_train, (X_train.shape[0], -1))\n",
    "X_test = np.reshape(X_test, (X_test.shape[0], -1))\n",
    "print X_train.shape, X_test.shape\n",
    "\n",
    "x = np.zeros((2, 3))\n",
    "print x\n",
    "x = [[1, 2, 3]]\n",
    "y = [[1, 2, 3], [4, 5, 6],[8, 9, 10]]\n",
    "print x\n",
    "print y\n",
    "\n",
    "z = np.sum(np.power(np.subtract(x, y), 2), axis = 1)\n",
    "print z\n",
    "\n",
    "print y[0]\n",
    "print np.subtract(x, y[0])\n",
    "z1 = np.sum(np.power(np.subtract(x, y[0]), 2))\n",
    "z2 = np.sum(np.power(np.subtract(x, y[1]), 2))\n",
    "z3 = np.sum(np.power(np.subtract(x, y[2]), 2))\n",
    "print z1 + z2 + z3\n",
    "\n",
    "yy = [1, 3, 3, 4, 9]\n",
    "print yy\n",
    "print np.bincount(yy)\n",
    "\n",
    "x = [[1, 2, 3], [4, 5, 6]]\n",
    "y = [[1, 2, 3], [4, 5, 6],[8, 9, 10]]\n",
    "print x\n",
    "print y\n",
    "\n",
    "xx = np.sum(np.power(x, 2), axis = 1)\n",
    "yy = np.sum(np.power(y, 2), axis = 1)\n",
    "\n",
    "xy = np.dot(x, np.transpose(y)) * (-2)\n",
    "print xx\n",
    "print yy\n",
    "print xy\n",
    "\n",
    "print (xy + np.reshape(xx, (2, 1)))\n",
    "print (xy + np.reshape(xx, (2, 1)) + yy)\n",
    "\n",
    "y = [[1, 2, 3], [4, 5, 6],[8, 9, 10], [11, 12, 13]]\n",
    "sy = np.array_split(y, 2, axis = 0)\n",
    "print sy[0][1]\n",
    "print sy[1]\n",
    "\n",
    "print np.concatenate((x, y), axis = 0)[1:3]"
   ]
  },
  {
   "cell_type": "code",
   "execution_count": 232,
   "metadata": {
    "collapsed": false
   },
   "outputs": [
    {
     "name": "stdout",
     "output_type": "stream",
     "text": [
      "<type 'numpy.ndarray'>\n",
      "(5000,)\n"
     ]
    }
   ],
   "source": [
    "from cs231n.classifiers import KNearestNeighbor\n",
    "\n",
    "# Create a kNN classifier instance. \n",
    "# Remember that training a kNN classifier is a noop: \n",
    "# the Classifier simply remembers the data and does no further processing \n",
    "classifier = KNearestNeighbor()\n",
    "classifier.train(X_train, y_train)\n",
    "print type(y_train)\n",
    "print y_train.shape"
   ]
  },
  {
   "cell_type": "markdown",
   "metadata": {},
   "source": [
    "We would now like to classify the test data with the kNN classifier. Recall that we can break down this process into two steps: \n",
    "\n",
    "1. First we must compute the distances between all test examples and all train examples. \n",
    "2. Given these distances, for each test example we find the k nearest examples and have them vote for the label\n",
    "\n",
    "Lets begin with computing the distance matrix between all training and test examples. For example, if there are **Ntr** training examples and **Nte** test examples, this stage should result in a **Nte x Ntr** matrix where each element (i,j) is the distance between the i-th test and j-th train example.\n",
    "\n",
    "First, open `cs231n/classifiers/k_nearest_neighbor.py` and implement the function `compute_distances_two_loops` that uses a (very inefficient) double loop over all pairs of (test, train) examples and computes the distance matrix one element at a time."
   ]
  },
  {
   "cell_type": "code",
   "execution_count": 80,
   "metadata": {
    "collapsed": false
   },
   "outputs": [
    {
     "name": "stdout",
     "output_type": "stream",
     "text": [
      "two loop \n",
      "\n",
      "(500, 5000)\n"
     ]
    },
    {
     "name": "stderr",
     "output_type": "stream",
     "text": [
      "[autoreload of cs231n.classifiers.k_nearest_neighbor failed: Traceback (most recent call last):\n",
      "  File \"/usr/local/lib/python2.7/dist-packages/IPython/extensions/autoreload.py\", line 247, in check\n",
      "    superreload(m, reload, self.old_objects)\n",
      "  File \"cs231n/classifiers/k_nearest_neighbor.py\", line 75\n",
      "    dists[i, j] = np.sum(np.power(np.subtract(X[i], self.X_train[j])), 2))\n",
      "                                                                         ^\n",
      "SyntaxError: invalid syntax\n",
      "]\n"
     ]
    }
   ],
   "source": [
    "# Open cs231n/classifiers/k_nearest_neighbor.py and implement\n",
    "# compute_distances_two_loops.\n",
    "\n",
    "# Test your implementation:\n",
    "dists = classifier.compute_distances_two_loops(X_test)\n",
    "print dists.shape"
   ]
  },
  {
   "cell_type": "code",
   "execution_count": 95,
   "metadata": {
    "collapsed": false
   },
   "outputs": [
    {
     "data": {
      "image/png": "[encoded data removed]",
      "text/plain": [
       "<matplotlib.figure.Figure at 0x47b82d0>"
      ]
     },
     "metadata": {},
     "output_type": "display_data"
    },
    {
     "name": "stdout",
     "output_type": "stream",
     "text": [
      "[ 27775852.  16326740.  41351316.  28629392.  37141466.  27793424.\n",
      "  42858649.  32606852.  41012193.]\n",
      "[  8593810.   8748621.   9036093.   9273096.   9852850.   9961967.\n",
      "   9985194.  10000286.  10003513.]\n",
      "[8 8 8 0 0 1 8 8 1]\n"
     ]
    }
   ],
   "source": [
    "# We can visualize the distance matrix: each row is a single test example and\n",
    "# its distances to training examples\n",
    "plt.imshow(dists, interpolation='none')\n",
    "plt.show()\n",
    "\n",
    "print dists[1, 1:10]\n",
    "tmp = np.argsort(dists, axis = 1)\n",
    "\n",
    "print dists[1, tmp[1, 1:10]]\n",
    "print y_train[tmp[1, 1:10]]"
   ]
  },
  {
   "cell_type": "markdown",
   "metadata": {},
   "source": [
    "**Inline Question #1:** Notice the structured patterns in the distance matrix, where some rows or columns are visible brighter. (Note that with the default color scheme black indicates low distances while white indicates high distances.)\n",
    "\n",
    "- What in the data is the cause behind the distinctly bright rows?\n",
    "- What causes the columns?"
   ]
  },
  {
   "cell_type": "markdown",
   "metadata": {},
   "source": [
    "**Your Answer**: *fill this in.*\n",
    "\n"
   ]
  },
  {
   "cell_type": "code",
   "execution_count": 145,
   "metadata": {
    "collapsed": false
   },
   "outputs": [
    {
     "name": "stdout",
     "output_type": "stream",
     "text": [
      "Got 137 / 500 correct => accuracy: 0.274000\n"
     ]
    }
   ],
   "source": [
    "# Now implement the function predict_labels and run the code below:\n",
    "# We use k = 1 (which is Nearest Neighbor).\n",
    "y_test_pred = classifier.predict_labels(dists, k=1)\n",
    "\n",
    "# Compute and print the fraction of correctly predicted examples\n",
    "num_correct = np.sum(y_test_pred == y_test)\n",
    "accuracy = float(num_correct) / num_test\n",
    "print 'Got %d / %d correct => accuracy: %f' % (num_correct, num_test, accuracy)\n"
   ]
  },
  {
   "cell_type": "markdown",
   "metadata": {},
   "source": [
    "You should expect to see approximately `27%` accuracy. Now lets try out a larger `k`, say `k = 5`:"
   ]
  },
  {
   "cell_type": "code",
   "execution_count": 144,
   "metadata": {
    "collapsed": false
   },
   "outputs": [
    {
     "name": "stdout",
     "output_type": "stream",
     "text": [
      "Got 139 / 500 correct => accuracy: 0.278000\n"
     ]
    }
   ],
   "source": [
    "y_test_pred = classifier.predict_labels(dists, k=5)\n",
    "num_correct = np.sum(y_test_pred == y_test)\n",
    "accuracy = float(num_correct) / num_test\n",
    "print 'Got %d / %d correct => accuracy: %f' % (num_correct, num_test, accuracy)"
   ]
  },
  {
   "cell_type": "markdown",
   "metadata": {},
   "source": [
    "You should expect to see a slightly better performance than with `k = 1`."
   ]
  },
  {
   "cell_type": "code",
   "execution_count": 150,
   "metadata": {
    "collapsed": false
   },
   "outputs": [
    {
     "name": "stdout",
     "output_type": "stream",
     "text": [
      "one loop \n",
      "\n",
      "Difference was: 0.000000\n",
      "Good! The distance matrices are the same\n"
     ]
    }
   ],
   "source": [
    "# Now lets speed up distance matrix computation by using partial vectorization\n",
    "# with one loop. Implement the function compute_distances_one_loop and run the\n",
    "# code below:\n",
    "dists_one = classifier.compute_distances_one_loop(X_test)\n",
    "\n",
    "# To ensure that our vectorized implementation is correct, we make sure that it\n",
    "# agrees with the naive implementation. There are many ways to decide whether\n",
    "# two matrices are similar; one of the simplest is the Frobenius norm. In case\n",
    "# you haven't seen it before, the Frobenius norm of two matrices is the square\n",
    "# root of the squared sum of differences of all elements; in other words, reshape\n",
    "# the matrices into vectors and compute the Euclidean distance between them.\n",
    "difference = np.linalg.norm(dists - dists_one, ord='fro')\n",
    "print 'Difference was: %f' % (difference, )\n",
    "if difference < 0.001:\n",
    "  print 'Good! The distance matrices are the same'\n",
    "else:\n",
    "  print 'Uh-oh! The distance matrices are different'"
   ]
  },
  {
   "cell_type": "code",
   "execution_count": 176,
   "metadata": {
    "collapsed": false
   },
   "outputs": [
    {
     "name": "stdout",
     "output_type": "stream",
     "text": [
      "Difference was: 0.000000\n",
      "Good! The distance matrices are the same\n"
     ]
    }
   ],
   "source": [
    "# Now implement the fully vectorized version inside compute_distances_no_loops\n",
    "# and run the code\n",
    "dists_two = classifier.compute_distances_no_loops(X_test)\n",
    "\n",
    "# check that the distance matrix agrees with the one we computed before:\n",
    "difference = np.linalg.norm(dists - dists_two, ord='fro')\n",
    "print 'Difference was: %f' % (difference, )\n",
    "if difference < 0.001:\n",
    "  print 'Good! The distance matrices are the same'\n",
    "else:\n",
    "  print 'Uh-oh! The distance matrices are different'"
   ]
  },
  {
   "cell_type": "code",
   "execution_count": 177,
   "metadata": {
    "collapsed": false
   },
   "outputs": [
    {
     "name": "stdout",
     "output_type": "stream",
     "text": [
      "two loop \n",
      "\n",
      "Two loop version took 109.404811 seconds\n",
      "one loop \n",
      "\n",
      "One loop version took 120.838242 seconds\n",
      "No loop version took 1.310949 seconds\n"
     ]
    }
   ],
   "source": [
    "# Let's compare how fast the implementations are\n",
    "def time_function(f, *args):\n",
    "  \"\"\"\n",
    "  Call a function f with args and return the time (in seconds) that it took to execute.\n",
    "  \"\"\"\n",
    "  import time\n",
    "  tic = time.time()\n",
    "  f(*args)\n",
    "  toc = time.time()\n",
    "  return toc - tic\n",
    "\n",
    "two_loop_time = time_function(classifier.compute_distances_two_loops, X_test)\n",
    "print 'Two loop version took %f seconds' % two_loop_time\n",
    "\n",
    "one_loop_time = time_function(classifier.compute_distances_one_loop, X_test)\n",
    "print 'One loop version took %f seconds' % one_loop_time\n",
    "\n",
    "no_loop_time = time_function(classifier.compute_distances_no_loops, X_test)\n",
    "print 'No loop version took %f seconds' % no_loop_time\n",
    "\n",
    "# you should see significantly faster performance with the fully vectorized implementation"
   ]
  },
  {
   "cell_type": "markdown",
   "metadata": {},
   "source": [
    "### Cross-validation\n",
    "\n",
    "We have implemented the k-Nearest Neighbor classifier but we set the value k = 5 arbitrarily. We will now determine the best value of this hyperparameter with cross-validation."
   ]
  },
  {
   "cell_type": "code",
   "execution_count": 240,
   "metadata": {
    "collapsed": false
   },
   "outputs": [
    {
     "name": "stdout",
     "output_type": "stream",
     "text": [
      "5\n",
      "5\n",
      "[0, 0, 0, 0, 0]\n",
      "<type 'numpy.ndarray'>\n",
      "(4000, 3072)\n",
      "<type 'numpy.ndarray'>\n",
      "(4000,)\n",
      "0\n",
      "[0.263, 0, 0, 0, 0]\n",
      "<type 'numpy.ndarray'>\n",
      "(4000, 3072)\n",
      "<type 'numpy.ndarray'>\n",
      "(4000,)\n",
      "1\n",
      "[0.263, 0.257, 0, 0, 0]\n",
      "<type 'numpy.ndarray'>\n",
      "(4000, 3072)\n",
      "<type 'numpy.ndarray'>\n",
      "(4000,)\n",
      "2\n",
      "[0.263, 0.257, 0.264, 0, 0]\n",
      "<type 'numpy.ndarray'>\n",
      "(4000, 3072)\n",
      "<type 'numpy.ndarray'>\n",
      "(4000,)\n",
      "3\n",
      "[0.263, 0.257, 0.264, 0.278, 0]\n",
      "<type 'numpy.ndarray'>\n",
      "(4000, 3072)\n",
      "<type 'numpy.ndarray'>\n",
      "(4000,)\n",
      "4\n",
      "[0.263, 0.257, 0.264, 0.278, 0.266]\n",
      "[0, 0, 0, 0, 0]\n",
      "<type 'numpy.ndarray'>\n",
      "(4000, 3072)\n",
      "<type 'numpy.ndarray'>\n",
      "(4000,)\n",
      "0\n",
      "[0.239, 0, 0, 0, 0]\n",
      "<type 'numpy.ndarray'>\n",
      "(4000, 3072)\n",
      "<type 'numpy.ndarray'>\n",
      "(4000,)\n",
      "1\n",
      "[0.239, 0.249, 0, 0, 0]\n",
      "<type 'numpy.ndarray'>\n",
      "(4000, 3072)\n",
      "<type 'numpy.ndarray'>\n",
      "(4000,)\n",
      "2\n",
      "[0.239, 0.249, 0.24, 0, 0]\n",
      "<type 'numpy.ndarray'>\n",
      "(4000, 3072)\n",
      "<type 'numpy.ndarray'>\n",
      "(4000,)\n",
      "3\n",
      "[0.239, 0.249, 0.24, 0.266, 0]\n",
      "<type 'numpy.ndarray'>\n",
      "(4000, 3072)\n",
      "<type 'numpy.ndarray'>\n",
      "(4000,)\n",
      "4\n",
      "[0.239, 0.249, 0.24, 0.266, 0.254]\n",
      "[0, 0, 0, 0, 0]\n",
      "<type 'numpy.ndarray'>\n",
      "(4000, 3072)\n",
      "<type 'numpy.ndarray'>\n",
      "(4000,)\n",
      "0\n",
      "[0.248, 0, 0, 0, 0]\n",
      "<type 'numpy.ndarray'>\n",
      "(4000, 3072)\n",
      "<type 'numpy.ndarray'>\n",
      "(4000,)\n",
      "1\n",
      "[0.248, 0.266, 0, 0, 0]\n",
      "<type 'numpy.ndarray'>\n",
      "(4000, 3072)\n",
      "<type 'numpy.ndarray'>\n",
      "(4000,)\n",
      "2\n",
      "[0.248, 0.266, 0.28, 0, 0]\n",
      "<type 'numpy.ndarray'>\n",
      "(4000, 3072)\n",
      "<type 'numpy.ndarray'>\n",
      "(4000,)\n",
      "3\n",
      "[0.248, 0.266, 0.28, 0.292, 0]\n",
      "<type 'numpy.ndarray'>\n",
      "(4000, 3072)\n",
      "<type 'numpy.ndarray'>\n",
      "(4000,)\n",
      "4\n",
      "[0.248, 0.266, 0.28, 0.292, 0.28]\n",
      "[0, 0, 0, 0, 0]\n",
      "<type 'numpy.ndarray'>\n",
      "(4000, 3072)\n",
      "<type 'numpy.ndarray'>\n",
      "(4000,)\n",
      "0\n",
      "[0.262, 0, 0, 0, 0]\n",
      "<type 'numpy.ndarray'>\n",
      "(4000, 3072)\n",
      "<type 'numpy.ndarray'>\n",
      "(4000,)\n",
      "1\n",
      "[0.262, 0.282, 0, 0, 0]\n",
      "<type 'numpy.ndarray'>\n",
      "(4000, 3072)\n",
      "<type 'numpy.ndarray'>\n",
      "(4000,)\n",
      "2\n",
      "[0.262, 0.282, 0.273, 0, 0]\n",
      "<type 'numpy.ndarray'>\n",
      "(4000, 3072)\n",
      "<type 'numpy.ndarray'>\n",
      "(4000,)\n",
      "3\n",
      "[0.262, 0.282, 0.273, 0.29, 0]\n",
      "<type 'numpy.ndarray'>\n",
      "(4000, 3072)\n",
      "<type 'numpy.ndarray'>\n",
      "(4000,)\n",
      "4\n",
      "[0.262, 0.282, 0.273, 0.29, 0.273]\n",
      "[0, 0, 0, 0, 0]\n",
      "<type 'numpy.ndarray'>\n",
      "(4000, 3072)\n",
      "<type 'numpy.ndarray'>\n",
      "(4000,)\n",
      "0\n",
      "[0.265, 0, 0, 0, 0]\n",
      "<type 'numpy.ndarray'>\n",
      "(4000, 3072)\n",
      "<type 'numpy.ndarray'>\n",
      "(4000,)\n",
      "1\n",
      "[0.265, 0.296, 0, 0, 0]\n",
      "<type 'numpy.ndarray'>\n",
      "(4000, 3072)\n",
      "<type 'numpy.ndarray'>\n",
      "(4000,)\n",
      "2\n",
      "[0.265, 0.296, 0.276, 0, 0]\n",
      "<type 'numpy.ndarray'>\n",
      "(4000, 3072)\n",
      "<type 'numpy.ndarray'>\n",
      "(4000,)\n",
      "3\n",
      "[0.265, 0.296, 0.276, 0.284, 0]\n",
      "<type 'numpy.ndarray'>\n",
      "(4000, 3072)\n",
      "<type 'numpy.ndarray'>\n",
      "(4000,)\n",
      "4\n",
      "[0.265, 0.296, 0.276, 0.284, 0.28]\n",
      "[0, 0, 0, 0, 0]\n",
      "<type 'numpy.ndarray'>\n",
      "(4000, 3072)\n",
      "<type 'numpy.ndarray'>\n",
      "(4000,)\n",
      "0\n",
      "[0.26, 0, 0, 0, 0]\n",
      "<type 'numpy.ndarray'>\n",
      "(4000, 3072)\n",
      "<type 'numpy.ndarray'>\n",
      "(4000,)\n",
      "1\n",
      "[0.26, 0.295, 0, 0, 0]\n",
      "<type 'numpy.ndarray'>\n",
      "(4000, 3072)\n",
      "<type 'numpy.ndarray'>\n",
      "(4000,)\n",
      "2\n",
      "[0.26, 0.295, 0.279, 0, 0]\n",
      "<type 'numpy.ndarray'>\n",
      "(4000, 3072)\n",
      "<type 'numpy.ndarray'>\n",
      "(4000,)\n",
      "3\n",
      "[0.26, 0.295, 0.279, 0.283, 0]\n",
      "<type 'numpy.ndarray'>\n",
      "(4000, 3072)\n",
      "<type 'numpy.ndarray'>\n",
      "(4000,)\n",
      "4\n",
      "[0.26, 0.295, 0.279, 0.283, 0.28]\n",
      "[0, 0, 0, 0, 0]\n",
      "<type 'numpy.ndarray'>\n",
      "(4000, 3072)\n",
      "<type 'numpy.ndarray'>\n",
      "(4000,)\n",
      "0\n",
      "[0.252, 0, 0, 0, 0]\n",
      "<type 'numpy.ndarray'>\n",
      "(4000, 3072)\n",
      "<type 'numpy.ndarray'>\n",
      "(4000,)\n",
      "1\n",
      "[0.252, 0.289, 0, 0, 0]\n",
      "<type 'numpy.ndarray'>\n",
      "(4000, 3072)\n",
      "<type 'numpy.ndarray'>\n",
      "(4000,)\n",
      "2\n",
      "[0.252, 0.289, 0.278, 0, 0]\n",
      "<type 'numpy.ndarray'>\n",
      "(4000, 3072)\n",
      "<type 'numpy.ndarray'>\n",
      "(4000,)\n",
      "3\n",
      "[0.252, 0.289, 0.278, 0.282, 0]\n",
      "<type 'numpy.ndarray'>\n",
      "(4000, 3072)\n",
      "<type 'numpy.ndarray'>\n",
      "(4000,)\n",
      "4\n",
      "[0.252, 0.289, 0.278, 0.282, 0.274]\n",
      "[0, 0, 0, 0, 0]\n",
      "<type 'numpy.ndarray'>\n",
      "(4000, 3072)\n",
      "<type 'numpy.ndarray'>\n",
      "(4000,)\n",
      "0\n",
      "[0.27, 0, 0, 0, 0]\n",
      "<type 'numpy.ndarray'>\n",
      "(4000, 3072)\n",
      "<type 'numpy.ndarray'>\n",
      "(4000,)\n",
      "1\n",
      "[0.27, 0.279, 0, 0, 0]\n",
      "<type 'numpy.ndarray'>\n",
      "(4000, 3072)\n",
      "<type 'numpy.ndarray'>\n",
      "(4000,)\n",
      "2\n",
      "[0.27, 0.279, 0.279, 0, 0]\n",
      "<type 'numpy.ndarray'>\n",
      "(4000, 3072)\n",
      "<type 'numpy.ndarray'>\n",
      "(4000,)\n",
      "3\n",
      "[0.27, 0.279, 0.279, 0.282, 0]\n",
      "<type 'numpy.ndarray'>\n",
      "(4000, 3072)\n",
      "<type 'numpy.ndarray'>\n",
      "(4000,)\n",
      "4\n",
      "[0.27, 0.279, 0.279, 0.282, 0.285]\n",
      "[0, 0, 0, 0, 0]\n",
      "<type 'numpy.ndarray'>\n",
      "(4000, 3072)\n",
      "<type 'numpy.ndarray'>\n",
      "(4000,)\n",
      "0\n",
      "[0.271, 0, 0, 0, 0]\n",
      "<type 'numpy.ndarray'>\n",
      "(4000, 3072)\n",
      "<type 'numpy.ndarray'>\n",
      "(4000,)\n",
      "1\n",
      "[0.271, 0.288, 0, 0, 0]\n",
      "<type 'numpy.ndarray'>\n",
      "(4000, 3072)\n",
      "<type 'numpy.ndarray'>\n",
      "(4000,)\n",
      "2\n",
      "[0.271, 0.288, 0.278, 0, 0]\n",
      "<type 'numpy.ndarray'>\n",
      "(4000, 3072)\n",
      "<type 'numpy.ndarray'>\n",
      "(4000,)\n",
      "3\n",
      "[0.271, 0.288, 0.278, 0.269, 0]\n",
      "<type 'numpy.ndarray'>\n",
      "(4000, 3072)\n",
      "<type 'numpy.ndarray'>\n",
      "(4000,)\n",
      "4\n",
      "[0.271, 0.288, 0.278, 0.269, 0.266]\n",
      "[0, 0, 0, 0, 0]\n",
      "<type 'numpy.ndarray'>\n",
      "(4000, 3072)\n",
      "<type 'numpy.ndarray'>\n",
      "(4000,)\n",
      "0\n",
      "[0.256, 0, 0, 0, 0]\n",
      "<type 'numpy.ndarray'>\n",
      "(4000, 3072)\n",
      "<type 'numpy.ndarray'>\n",
      "(4000,)\n",
      "1\n",
      "[0.256, 0.27, 0, 0, 0]\n",
      "<type 'numpy.ndarray'>\n",
      "(4000, 3072)\n",
      "<type 'numpy.ndarray'>\n",
      "(4000,)\n",
      "2\n",
      "[0.256, 0.27, 0.263, 0, 0]\n",
      "<type 'numpy.ndarray'>\n",
      "(4000, 3072)\n",
      "<type 'numpy.ndarray'>\n",
      "(4000,)\n",
      "3\n",
      "[0.256, 0.27, 0.263, 0.256, 0]\n",
      "<type 'numpy.ndarray'>\n",
      "(4000, 3072)\n",
      "<type 'numpy.ndarray'>\n",
      "(4000,)\n",
      "4\n",
      "[0.256, 0.27, 0.263, 0.256, 0.263]\n",
      "k = 1, accuracy = 0.263000\n",
      "k = 1, accuracy = 0.257000\n",
      "k = 1, accuracy = 0.264000\n",
      "k = 1, accuracy = 0.278000\n",
      "k = 1, accuracy = 0.266000\n",
      "k = 3, accuracy = 0.239000\n",
      "k = 3, accuracy = 0.249000\n",
      "k = 3, accuracy = 0.240000\n",
      "k = 3, accuracy = 0.266000\n",
      "k = 3, accuracy = 0.254000\n",
      "k = 5, accuracy = 0.248000\n",
      "k = 5, accuracy = 0.266000\n",
      "k = 5, accuracy = 0.280000\n",
      "k = 5, accuracy = 0.292000\n",
      "k = 5, accuracy = 0.280000\n",
      "k = 8, accuracy = 0.262000\n",
      "k = 8, accuracy = 0.282000\n",
      "k = 8, accuracy = 0.273000\n",
      "k = 8, accuracy = 0.290000\n",
      "k = 8, accuracy = 0.273000\n",
      "k = 10, accuracy = 0.265000\n",
      "k = 10, accuracy = 0.296000\n",
      "k = 10, accuracy = 0.276000\n",
      "k = 10, accuracy = 0.284000\n",
      "k = 10, accuracy = 0.280000\n",
      "k = 12, accuracy = 0.260000\n",
      "k = 12, accuracy = 0.295000\n",
      "k = 12, accuracy = 0.279000\n",
      "k = 12, accuracy = 0.283000\n",
      "k = 12, accuracy = 0.280000\n",
      "k = 15, accuracy = 0.252000\n",
      "k = 15, accuracy = 0.289000\n",
      "k = 15, accuracy = 0.278000\n",
      "k = 15, accuracy = 0.282000\n",
      "k = 15, accuracy = 0.274000\n",
      "k = 20, accuracy = 0.270000\n",
      "k = 20, accuracy = 0.279000\n",
      "k = 20, accuracy = 0.279000\n",
      "k = 20, accuracy = 0.282000\n",
      "k = 20, accuracy = 0.285000\n",
      "k = 50, accuracy = 0.271000\n",
      "k = 50, accuracy = 0.288000\n",
      "k = 50, accuracy = 0.278000\n",
      "k = 50, accuracy = 0.269000\n",
      "k = 50, accuracy = 0.266000\n",
      "k = 100, accuracy = 0.256000\n",
      "k = 100, accuracy = 0.270000\n",
      "k = 100, accuracy = 0.263000\n",
      "k = 100, accuracy = 0.256000\n",
      "k = 100, accuracy = 0.263000\n"
     ]
    }
   ],
   "source": [
    "num_folds = 5\n",
    "k_choices = [1, 3, 5, 8, 10, 12, 15, 20, 50, 100]\n",
    "\n",
    "X_train_folds = []\n",
    "y_train_folds = []\n",
    "################################################################################\n",
    "# TODO:                                                                        #\n",
    "# Split up the training data into folds. After splitting, X_train_folds and    #\n",
    "# y_train_folds should each be lists of length num_folds, where                #\n",
    "# y_train_folds[i] is the label vector for the points in X_train_folds[i].     #\n",
    "# Hint: Look up the numpy array_split function.                                #\n",
    "################################################################################\n",
    "X_train_folds = np.array_split(X_train, num_folds)\n",
    "y_train_folds = np.array_split(y_train, num_folds)\n",
    "\n",
    "print len(X_train_folds)\n",
    "print len(y_train_folds)\n",
    "################################################################################\n",
    "#                                 END OF YOUR CODE                             #\n",
    "################################################################################\n",
    "\n",
    "# A dictionary holding the accuracies for different values of k that we find\n",
    "# when running cross-validation. After running cross-validation,\n",
    "# k_to_accuracies[k] should be a list of length num_folds giving the different\n",
    "# accuracy values that we found when using that value of k.\n",
    "k_to_accuracies = {}\n",
    "\n",
    "################################################################################\n",
    "# TODO:                                                                        #\n",
    "# Perform k-fold cross validation to find the best value of k. For each        #\n",
    "# possible value of k, run the k-nearest-neighbor algorithm num_folds times,   #\n",
    "# where in each case you use all but one of the folds as training data and the #\n",
    "# last fold as a validation set. Store the accuracies for all fold and all     #\n",
    "# values of k in the k_to_accuracies dictionary.                               #\n",
    "################################################################################\n",
    "for k in k_choices:\n",
    "    accuracy = [0, 0, 0, 0, 0]\n",
    "    print accuracy\n",
    "    for i in xrange(num_folds):\n",
    "        x_test = X_train_folds[i]\n",
    "        y_test = y_train_folds[i]\n",
    "        x_test = np.reshape(x_test, (x_test.shape[0], -1))\n",
    "        \n",
    "        x_train_tmp = X_train_folds[0:i] + X_train_folds[i+1:num_folds]\n",
    "        y_train_tmp = y_train_folds[0:i] + y_train_folds[i+1: num_folds]\n",
    "        x_train_tmp = np.reshape(x_train_tmp, (x_train_tmp[0].shape[0] * len(x_train_tmp), -1))\n",
    "        y_train_tmp = np.reshape(y_train_tmp, (4000))\n",
    "        \n",
    "        # train\n",
    "        classifier_tmp = KNearestNeighbor()\n",
    "        \n",
    "        classifier_tmp.train(x_train_tmp, y_train_tmp)\n",
    "        # predict\n",
    "\n",
    "        dists_two = classifier_tmp.compute_distances_no_loops(x_test)\n",
    "        y_test_pred = classifier_tmp.predict_labels(dists_two, k)\n",
    "        # accuracy\n",
    "        num_correct = np.sum(y_test_pred == y_test)\n",
    "        accuracy[i] = (float(num_correct) / 1000)\n",
    "        #print accuracy\n",
    "    k_to_accuracies[k] = accuracy\n",
    "################################################################################\n",
    "#                                 END OF YOUR CODE                             #\n",
    "################################################################################\n",
    "\n",
    "# Print out the computed accuracies\n",
    "for k in sorted(k_to_accuracies):\n",
    "    for accuracy in k_to_accuracies[k]:\n",
    "        print 'k = %d, accuracy = %f' % (k, accuracy)"
   ]
  },
  {
   "cell_type": "code",
   "execution_count": 241,
   "metadata": {
    "collapsed": false
   },
   "outputs": [
    {
     "name": "stderr",
     "output_type": "stream",
     "text": [
      "/usr/lib/pymodules/python2.7/matplotlib/collections.py:446: FutureWarning: elementwise comparison failed; returning scalar instead, but in the future will perform elementwise comparison\n",
      "  if self._edgecolors == 'face':\n"
     ]
    },
    {
     "data": {
      "image/png": "[encoded data removed]",
      "text/plain": [
       "<matplotlib.figure.Figure at 0x77108d0>"
      ]
     },
     "metadata": {},
     "output_type": "display_data"
    }
   ],
   "source": [
    "# plot the raw observations\n",
    "for k in k_choices:\n",
    "  accuracies = k_to_accuracies[k]\n",
    "  plt.scatter([k] * len(accuracies), accuracies)\n",
    "\n",
    "# plot the trend line with error bars that correspond to standard deviation\n",
    "accuracies_mean = np.array([np.mean(v) for k,v in sorted(k_to_accuracies.items())])\n",
    "accuracies_std = np.array([np.std(v) for k,v in sorted(k_to_accuracies.items())])\n",
    "plt.errorbar(k_choices, accuracies_mean, yerr=accuracies_std)\n",
    "plt.title('Cross-validation on k')\n",
    "plt.xlabel('k')\n",
    "plt.ylabel('Cross-validation accuracy')\n",
    "plt.show()"
   ]
  },
  {
   "cell_type": "code",
   "execution_count": 242,
   "metadata": {
    "collapsed": false
   },
   "outputs": [
    {
     "name": "stdout",
     "output_type": "stream",
     "text": [
      "one loop \n",
      "\n",
      "Got 0 / 500 correct => accuracy: 0.000000\n"
     ]
    },
    {
     "name": "stderr",
     "output_type": "stream",
     "text": [
      "/usr/local/lib/python2.7/dist-packages/ipykernel/__main__.py:11: DeprecationWarning: elementwise == comparison failed; this will raise an error in the future.\n"
     ]
    }
   ],
   "source": [
    "# Based on the cross-validation results above, choose the best value for k,   \n",
    "# retrain the classifier using all the training data, and test it on the test\n",
    "# data. You should be able to get above 28% accuracy on the test data.\n",
    "best_k = 12\n",
    "\n",
    "classifier = KNearestNeighbor()\n",
    "classifier.train(X_train, y_train)\n",
    "y_test_pred = classifier.predict(X_test, k=best_k)\n",
    "\n",
    "# Compute and display the accuracy\n",
    "num_correct = np.sum(y_test_pred == y_test)\n",
    "accuracy = float(num_correct) / num_test\n",
    "print 'Got %d / %d correct => accuracy: %f' % (num_correct, num_test, accuracy)"
   ]
  }
 ],
 "metadata": {
  "kernelspec": {
   "display_name": "Python 2",
   "language": "python",
   "name": "python2"
  },
  "language_info": {
   "codemirror_mode": {
    "name": "ipython",
    "version": 2
   },
   "file_extension": ".py",
   "mimetype": "text/x-python",
   "name": "python",
   "nbconvert_exporter": "python",
   "pygments_lexer": "ipython2",
   "version": "2.7.3"
  }
 },
 "nbformat": 4,
 "nbformat_minor": 0
}
